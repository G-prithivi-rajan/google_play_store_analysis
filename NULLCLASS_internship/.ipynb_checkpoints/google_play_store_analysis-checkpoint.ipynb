version https://git-lfs.github.com/spec/v1
oid sha256:dfe746d9be4fc1e5adfbbcf428d98274d2d3073ae0b9992d89c12109ccc4e19d
size 25047
